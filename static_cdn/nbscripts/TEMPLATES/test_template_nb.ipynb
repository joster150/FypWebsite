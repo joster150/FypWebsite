{
 "cells": [
  {
   "cell_type": "markdown",
   "metadata": {},
   "source": [
    "This module contains tests for the filtering functions within the filter_dataframes module"
   ]
  },
  {
   "cell_type": "markdown",
   "metadata": {
    "toc": true
   },
   "source": [
    "<h1>Table of Contents<span class=\"tocSkip\"></span></h1>\n",
    "<div class=\"toc\"><ul class=\"toc-item\"><li><span><a href=\"#Imports\" data-toc-modified-id=\"Imports-1\"><span class=\"toc-item-num\">1&nbsp;&nbsp;</span>Imports</a></span></li><li><span><a href=\"#Define-all-test-functions\" data-toc-modified-id=\"Define-all-test-functions-2\"><span class=\"toc-item-num\">2&nbsp;&nbsp;</span>Define all test functions</a></span><ul class=\"toc-item\"><li><span><a href=\"#FUNCTION-func_1-FOR-no-params\" data-toc-modified-id=\"FUNCTION-func_1-FOR-no-params-2.1\"><span class=\"toc-item-num\">2.1&nbsp;&nbsp;</span>FUNCTION func_1 FOR no params</a></span></li><li><span><a href=\"#FUNCTION-func_1-FOR-correct-params\" data-toc-modified-id=\"FUNCTION-func_1-FOR-correct-params-2.2\"><span class=\"toc-item-num\">2.2&nbsp;&nbsp;</span>FUNCTION func_1 FOR correct params</a></span></li><li><span><a href=\"#Function-func_1-FOR-correct-input-and-output-parameters-defined\" data-toc-modified-id=\"Function-func_1-FOR-correct-input-and-output-parameters-defined-2.3\"><span class=\"toc-item-num\">2.3&nbsp;&nbsp;</span>Function func_1 FOR correct input and output parameters defined</a></span></li></ul></li><li><span><a href=\"#Help-with-Markdown-cells\" data-toc-modified-id=\"Help-with-Markdown-cells-3\"><span class=\"toc-item-num\">3&nbsp;&nbsp;</span>Help with Markdown cells</a></span></li><li><span><a href=\"#Remember-you-can-use-latex-equations\" data-toc-modified-id=\"Remember-you-can-use-latex-equations-4\"><span class=\"toc-item-num\">4&nbsp;&nbsp;</span>Remember you can use latex equations</a></span></li></ul></div>"
   ]
  },
  {
   "cell_type": "markdown",
   "metadata": {},
   "source": [
    "# Imports\n",
    "Notebook from importnb allows Jupyter notebooks to be imported so is **ESSENTIAL**.The reload function may be required if chnages are being made to to-be-tested module while testing. Use the format below to import your own module to be tested."
   ]
  },
  {
   "cell_type": "code",
   "execution_count": 1,
   "metadata": {},
   "outputs": [],
   "source": [
    "from importnb import Notebook\n",
    "from importlib import reload\n",
    "import pytest#Used to allow list of test params to be passed to a function\n",
    "import inspect #Used to get arguments of a function for comparison with the in_out_def dictionary\n",
    "import pandas as pd\n",
    "with __import__('importnb').Notebook():\n",
    "    import template_nb\n",
    "    reload(template_nb)"
   ]
  },
  {
   "cell_type": "markdown",
   "metadata": {},
   "source": [
    "# Define all test functions\n",
    "Some rules:\n",
    "* Add a markdown cell heading, beginning with **FUNCTION your_func FOR what_you_are_testing_for**, to introduce the function \n",
    "* Ensure a Doc String (for example, '''Some Text''') is the first line of the function\n",
    "* Use assert to test if some comparison is as expected \n",
    "* Should test that a function and its definition in the in-out-def match\n",
    "* can use pytest.mark.parametrize to test the same logic on multiple input variations"
   ]
  },
  {
   "cell_type": "markdown",
   "metadata": {},
   "source": [
    "## FUNCTION func_1 FOR no params"
   ]
  },
  {
   "cell_type": "code",
   "execution_count": 2,
   "metadata": {},
   "outputs": [],
   "source": [
    "def test_func_1_no_params():\n",
    "    '''Testing the correct error dictionary is returned when no parameters are specified'''\n",
    "    assert template_nb.func_1()=={\"out_var\":None}"
   ]
  },
  {
   "cell_type": "markdown",
   "metadata": {},
   "source": [
    "## FUNCTION func_1 FOR correct params"
   ]
  },
  {
   "cell_type": "code",
   "execution_count": 6,
   "metadata": {},
   "outputs": [],
   "source": [
    "tuple_list=[\n",
    "    (pd.DataFrame(),'a string' , 'Equal To', 'Correct_Output'),\n",
    "    (pd.DataFrame(),'a different string', 'Not Equal To', 'Correct_Output')\n",
    "            ]\n",
    "@pytest.mark.parametrize(\"a,b,c,out\", tuple_list)\n",
    "def test_func_1_correct(a,b,c,out):\n",
    "    '''Test multiple working cases of df_filter'''\n",
    "    adict=template_nb.func_1(var_1=a, var_2=b, var_choices=c)\n",
    "    assert adict[\"out_var\"]==out"
   ]
  },
  {
   "cell_type": "markdown",
   "metadata": {},
   "source": [
    "## Function func_1 FOR correct input and output parameters defined"
   ]
  },
  {
   "cell_type": "code",
   "execution_count": 5,
   "metadata": {},
   "outputs": [],
   "source": [
    "def test_model_param_names():\n",
    "    var_a=[*template_nb.in_out_def()[\"func_1\"][\"inputs\"].keys()]==inspect.getargspec(template_nb.func_1)[0]\n",
    "    var_b=[*template_nb.in_out_def()[\"func_1\"][\"outputs\"].keys()]==[*template_nb.func_1().keys()]\n",
    "    assert var_a and var_b"
   ]
  },
  {
   "cell_type": "markdown",
   "metadata": {},
   "source": [
    "# Help with Markdown cells\n",
    "\n",
    "For help with markdown vist [markdownguide](https://markdownguide.org/basic-syntax/)"
   ]
  },
  {
   "cell_type": "markdown",
   "metadata": {},
   "source": [
    "# Remember you can use latex equations\n",
    "\n",
    "* To write equations first start a math environment using double dollar signs    \n",
    "* Then write your equations and close the environment with double dollar signs  \n",
    "* For in-line equations use single dollar signs $e=mc^2$  \n",
    "* Remember Latex uses \\\\ to indicate many equation objects and use {} to surround information when its for a specific object.  \n",
    "* \\_ indicates subscript and \\^ indicates superscript (you will need to use {} if the sub or superscript is not a single number  * ie. {-i, j}). \n",
    "$$\n",
    "X=\\frac{A_{-i, j}}{B^2}\n",
    "$$\n",
    "\n",
    "\n",
    "See [Mathjax](https://math.meta.stackexchange.com/questions/5020/mathjax-basic-tutorial-and-quick-reference) for more help."
   ]
  }
 ],
 "metadata": {
  "kernelspec": {
   "display_name": "Python 3",
   "language": "python",
   "name": "python3"
  },
  "language_info": {
   "codemirror_mode": {
    "name": "ipython",
    "version": 3
   },
   "file_extension": ".py",
   "mimetype": "text/x-python",
   "name": "python",
   "nbconvert_exporter": "python",
   "pygments_lexer": "ipython3",
   "version": "3.9.2"
  },
  "toc": {
   "base_numbering": 1,
   "nav_menu": {},
   "number_sections": true,
   "sideBar": true,
   "skip_h1_title": false,
   "title_cell": "Table of Contents",
   "title_sidebar": "Contents",
   "toc_cell": true,
   "toc_position": {
    "height": "calc(100% - 180px)",
    "left": "10px",
    "top": "150px",
    "width": "198px"
   },
   "toc_section_display": true,
   "toc_window_display": true
  }
 },
 "nbformat": 4,
 "nbformat_minor": 4
}
