{
 "cells": [
  {
   "cell_type": "markdown",
   "metadata": {},
   "source": [
    "This will be the notebook's description to be detected by the website "
   ]
  },
  {
   "cell_type": "markdown",
   "metadata": {},
   "source": [
    "The below Table of Contents is generated using the TOC2 jupyter notebook extension"
   ]
  },
  {
   "cell_type": "markdown",
   "metadata": {
    "toc": true
   },
   "source": [
    "<h1>Table of Contents<span class=\"tocSkip\"></span></h1>\n",
    "<div class=\"toc\"><ul class=\"toc-item\"><li><span><a href=\"#Imports\" data-toc-modified-id=\"Imports-1\"><span class=\"toc-item-num\">1&nbsp;&nbsp;</span>Imports</a></span></li><li><span><a href=\"#Define-all-functions-within-notebook\" data-toc-modified-id=\"Define-all-functions-within-notebook-2\"><span class=\"toc-item-num\">2&nbsp;&nbsp;</span>Define all functions within notebook</a></span></li><li><span><a href=\"#The-functions\" data-toc-modified-id=\"The-functions-3\"><span class=\"toc-item-num\">3&nbsp;&nbsp;</span>The functions</a></span><ul class=\"toc-item\"><li><span><a href=\"#FUNCTION---func_1\" data-toc-modified-id=\"FUNCTION---func_1-3.1\"><span class=\"toc-item-num\">3.1&nbsp;&nbsp;</span>FUNCTION - func_1</a></span></li><li><span><a href=\"#SUPPORT-FUNCTION\" data-toc-modified-id=\"SUPPORT-FUNCTION-3.2\"><span class=\"toc-item-num\">3.2&nbsp;&nbsp;</span>SUPPORT FUNCTION</a></span></li></ul></li><li><span><a href=\"#Help-with-Markdown-cells\" data-toc-modified-id=\"Help-with-Markdown-cells-4\"><span class=\"toc-item-num\">4&nbsp;&nbsp;</span>Help with Markdown cells</a></span></li><li><span><a href=\"#Remember-you-can-use-latex-equations\" data-toc-modified-id=\"Remember-you-can-use-latex-equations-5\"><span class=\"toc-item-num\">5&nbsp;&nbsp;</span>Remember you can use latex equations</a></span></li></ul></div>"
   ]
  },
  {
   "cell_type": "markdown",
   "metadata": {},
   "source": [
    "# Imports"
   ]
  },
  {
   "cell_type": "code",
   "execution_count": 10,
   "metadata": {},
   "outputs": [],
   "source": [
    "# Normal imports\n",
    "import pandas as pd\n",
    "\n",
    "# To import a notebook already on the website (must also be local for off-website use/testing)\n",
    "from importnb import Notebook\n",
    "with __import__('importnb').Notebook():\n",
    "    import filter_dataframes"
   ]
  },
  {
   "cell_type": "markdown",
   "metadata": {},
   "source": [
    "# Define all functions within notebook\n",
    "This function will be read by the website to inform import functional decisions &mdash; so be careful!\n",
    "\n",
    "\n",
    "Some rules:\n",
    "1. **Must** be a function called **in_out_def()**\n",
    "2. **Must return a dictionary in the form:**  \n",
    "        {  \n",
    "        \"func_1_name\":  \n",
    "        {   \n",
    "        'inputs: {\"param_1\": \"param_type\", \"param_2\": \"param_type\"}  \n",
    "        'outputs: {\"output_param_1\": \"output_param_type\"}  \n",
    "        },  \n",
    "        \"func_2_name\":  \n",
    "        {  \n",
    "        'inputs: {\"param_1\": \"param_type\", \"param_2\": \"param_type\"}  \n",
    "        'outputs: {\"output_param_1\": \"output_param_type\"}  \n",
    "        },  \n",
    "        }  \n",
    "3. Input parameter types include:\n",
    "    - \"variable\" (for passing a variable from a previous step)\n",
    "    - \"text_input\" (for text input by user)\n",
    "    - \"file_browse\" (for user providing a file)\n",
    "    - \"files_browse\" (for user providing multiple files)\n",
    "    - \"float_input\" (for user providing a float value)\n",
    "    - \"int_input\" (for user providing an integer value)\n",
    "    - \"boolean\" (for providing a true or false value)\n",
    "    - \"choice[options]\" (for providing specific options to choose from)\n",
    "    \n",
    "4. Output parameter types include:\n",
    "    - \"variable\" (to pass any cariable type to other steps. If to be presented to user the type will be checked and numbers, text, and tables will be rendered)\n",
    "    - \"graph\" (to be rendered as a \"chart.js\" chart if in the correct dictionary format)"
   ]
  },
  {
   "cell_type": "code",
   "execution_count": 1,
   "metadata": {},
   "outputs": [],
   "source": [
    "def in_out_def():\n",
    "    return {\n",
    "        'func_1': \n",
    "        {\n",
    "        'inputs': {\"var_1\": \"variable\", \"var_2\": \"text_input\",\n",
    "             \"var_choices\": \"choice[Equal To,Not Equal To,Greater Than (inc),Less Than (inc),In List,Not In List]\"},\n",
    "        'outputs': {\"out_var\": \"variable\"}\n",
    "        }\n",
    "        }"
   ]
  },
  {
   "cell_type": "markdown",
   "metadata": {},
   "source": [
    "# The functions\n",
    "Some rules:\n",
    "* Add a markdown cell heading, beginning with **FUNCTION -**, to introduce the function \n",
    "* Ensure a Doc String (e.g. '''Some description of the function''') is the first line of the function\n",
    "* Ensure all required parameters are set with default values.\n",
    "* Ensure something is always returned \n",
    "- Return variables within a dictionary where the key provides a name\n",
    "- Return the same dictionary but with **None** values if there is an error\n",
    "* Ensure the function is correctly described within **in_out_def**\n",
    "* Ensure some parameter validation occurs (**isinstance** is a good check)\n",
    "* Its always helpful to add comments with # "
   ]
  },
  {
   "cell_type": "markdown",
   "metadata": {},
   "source": [
    "## FUNCTION - func_1"
   ]
  },
  {
   "cell_type": "code",
   "execution_count": 14,
   "metadata": {},
   "outputs": [],
   "source": [
    "def func_1(var_1=None, var_2=None, var_choices=None):\n",
    "    '''This is a Doc String'''\n",
    "    #check inputs \n",
    "    if isinstance(var_1, pd.DataFrame) and isinstance(var_2,str) and isinstance(var_choices,str):\n",
    "        #perform some logic\n",
    "        value=var_2+var_choices\n",
    "        #can use supporting functions\n",
    "        value=do_something(value)\n",
    "        \n",
    "        value=\"Correct_Output\"\n",
    "        #the return dict\n",
    "        return {\"out_var\":value}\n",
    "    \n",
    "    #the error return dict\n",
    "    return {\"out_var\":None}"
   ]
  },
  {
   "cell_type": "markdown",
   "metadata": {},
   "source": [
    "## SUPPORT FUNCTION\n",
    "Can still create functions not defined in the in_out_def and use them do perform extra logic to support other functions"
   ]
  },
  {
   "cell_type": "code",
   "execution_count": 13,
   "metadata": {},
   "outputs": [],
   "source": [
    "def do_something(arg):\n",
    "    '''A function not directly accessible from within the website'''\n",
    "    something=\"hi\"\n",
    "    return something"
   ]
  },
  {
   "cell_type": "markdown",
   "metadata": {},
   "source": [
    "# Help with Markdown cells\n",
    "\n",
    "For help with markdown vist [markdownguide](https://markdownguide.org/basic-syntax/)"
   ]
  },
  {
   "cell_type": "markdown",
   "metadata": {},
   "source": [
    "# Remember you can use latex equations\n",
    "\n",
    "* To write equations first start a math environment using double dollar signs    \n",
    "* Then write your equations and close the environment with double dollar signs  \n",
    "* For in-line equations use single dollar signs $e=mc^2$  \n",
    "* Remember Latex uses \\\\ to indicate many equation objects and use {} to surround information when its for a specific object.  \n",
    "* \\_ indicates subscript and \\^ indicates superscript (you will need to use {} if the sub or superscript is not a single number  * ie. {-i, j}). \n",
    "$$\n",
    "X=\\frac{A_{-i, j}}{B^2}\n",
    "$$\n",
    "\n",
    "\n",
    "See [Mathjax](https://math.meta.stackexchange.com/questions/5020/mathjax-basic-tutorial-and-quick-reference) for more help."
   ]
  }
 ],
 "metadata": {
  "kernelspec": {
   "display_name": "Python 3",
   "language": "python",
   "name": "python3"
  },
  "language_info": {
   "codemirror_mode": {
    "name": "ipython",
    "version": 3
   },
   "file_extension": ".py",
   "mimetype": "text/x-python",
   "name": "python",
   "nbconvert_exporter": "python",
   "pygments_lexer": "ipython3",
   "version": "3.9.2"
  },
  "toc": {
   "base_numbering": 1,
   "nav_menu": {},
   "number_sections": true,
   "sideBar": true,
   "skip_h1_title": false,
   "title_cell": "Table of Contents",
   "title_sidebar": "Contents",
   "toc_cell": true,
   "toc_position": {
    "height": "calc(100% - 180px)",
    "left": "10px",
    "top": "150px",
    "width": "225px"
   },
   "toc_section_display": true,
   "toc_window_display": true
  }
 },
 "nbformat": 4,
 "nbformat_minor": 4
}
