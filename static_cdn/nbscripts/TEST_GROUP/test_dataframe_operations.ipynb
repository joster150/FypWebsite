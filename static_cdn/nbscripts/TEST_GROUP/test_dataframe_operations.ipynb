{
 "cells": [
  {
   "cell_type": "markdown",
   "metadata": {},
   "source": [
    "This module contains tests for the dataframe operations in dataframe_operations module"
   ]
  },
  {
   "cell_type": "markdown",
   "metadata": {
    "toc": true
   },
   "source": [
    "<h1>Table of Contents<span class=\"tocSkip\"></span></h1>\n",
    "<div class=\"toc\"><ul class=\"toc-item\"><li><span><a href=\"#Imports\" data-toc-modified-id=\"Imports-1\"><span class=\"toc-item-num\">1&nbsp;&nbsp;</span>Imports</a></span></li><li><span><a href=\"#Test-Functions\" data-toc-modified-id=\"Test-Functions-2\"><span class=\"toc-item-num\">2&nbsp;&nbsp;</span>Test Functions</a></span><ul class=\"toc-item\"><li><span><a href=\"#FUNCTION-df_describe-FOR-no-params\" data-toc-modified-id=\"FUNCTION-df_describe-FOR-no-params-2.1\"><span class=\"toc-item-num\">2.1&nbsp;&nbsp;</span>FUNCTION df_describe FOR no params</a></span></li><li><span><a href=\"#FUNCTION-df_describe-FOR-real-dataframe\" data-toc-modified-id=\"FUNCTION-df_describe-FOR-real-dataframe-2.2\"><span class=\"toc-item-num\">2.2&nbsp;&nbsp;</span>FUNCTION df_describe FOR real dataframe</a></span></li></ul></li></ul></div>"
   ]
  },
  {
   "cell_type": "markdown",
   "metadata": {},
   "source": [
    "# Imports"
   ]
  },
  {
   "cell_type": "code",
   "execution_count": 2,
   "metadata": {},
   "outputs": [],
   "source": [
    "from importnb import Notebook\n",
    "from importlib import reload\n",
    "import pytest\n",
    "import pandas as pd\n",
    "with __import__('importnb').Notebook():\n",
    "    import dataframe_operations\n",
    "    reload(dataframe_operations)"
   ]
  },
  {
   "cell_type": "markdown",
   "metadata": {},
   "source": [
    "# Test Functions"
   ]
  },
  {
   "cell_type": "markdown",
   "metadata": {},
   "source": [
    "## FUNCTION df_describe FOR no params"
   ]
  },
  {
   "cell_type": "code",
   "execution_count": 3,
   "metadata": {},
   "outputs": [],
   "source": [
    "def test_df_describe_no_params():\n",
    "    '''Testing the correct error dictionary is returned when no parameters are specified'''\n",
    "    assert dataframe_operations.df_describe()=={\"df\":None}"
   ]
  },
  {
   "cell_type": "markdown",
   "metadata": {},
   "source": [
    "## FUNCTION df_describe FOR real dataframe "
   ]
  },
  {
   "cell_type": "code",
   "execution_count": 4,
   "metadata": {},
   "outputs": [],
   "source": [
    "def df_describe_correct_params():\n",
    "    '''Test a working case of df_describe'''\n",
    "    df=pd.DataFrame(columns=[\"A\",\"B\"],data=[[1,2],[54,324],[22,45],[99,75]])\n",
    "    assert df.describe() == dataframe_operations.df_describe(df)['df']"
   ]
  }
 ],
 "metadata": {
  "kernelspec": {
   "display_name": "Python 3",
   "language": "python",
   "name": "python3"
  },
  "language_info": {
   "codemirror_mode": {
    "name": "ipython",
    "version": 3
   },
   "file_extension": ".py",
   "mimetype": "text/x-python",
   "name": "python",
   "nbconvert_exporter": "python",
   "pygments_lexer": "ipython3",
   "version": "3.9.0"
  },
  "toc": {
   "base_numbering": 1,
   "nav_menu": {},
   "number_sections": true,
   "sideBar": true,
   "skip_h1_title": false,
   "title_cell": "Table of Contents",
   "title_sidebar": "Contents",
   "toc_cell": true,
   "toc_position": {
    "height": "calc(100% - 180px)",
    "left": "10px",
    "top": "150px",
    "width": "165px"
   },
   "toc_section_display": true,
   "toc_window_display": true
  }
 },
 "nbformat": 4,
 "nbformat_minor": 4
}
