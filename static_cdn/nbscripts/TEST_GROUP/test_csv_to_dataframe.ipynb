{
 "cells": [
  {
   "cell_type": "markdown",
   "metadata": {},
   "source": [
    "This module contains tests for the csv to dataframe conversion functions within the csv_to_dataframe module"
   ]
  },
  {
   "cell_type": "markdown",
   "metadata": {
    "toc": true
   },
   "source": [
    "<h1>Table of Contents<span class=\"tocSkip\"></span></h1>\n",
    "<div class=\"toc\"><ul class=\"toc-item\"><li><span><a href=\"#Imports\" data-toc-modified-id=\"Imports-1\"><span class=\"toc-item-num\">1&nbsp;&nbsp;</span>Imports</a></span></li><li><span><a href=\"#Test-Functions\" data-toc-modified-id=\"Test-Functions-2\"><span class=\"toc-item-num\">2&nbsp;&nbsp;</span>Test Functions</a></span><ul class=\"toc-item\"><li><span><a href=\"#FUNCTION-csv_to_df-FOR-no-params\" data-toc-modified-id=\"FUNCTION-csv_to_df-FOR-no-params-2.1\"><span class=\"toc-item-num\">2.1&nbsp;&nbsp;</span>FUNCTION csv_to_df FOR no params</a></span></li><li><span><a href=\"#FUNCTION-csv_to_df-FOR-csv-file-and-non-csv-file\" data-toc-modified-id=\"FUNCTION-csv_to_df-FOR-csv-file-and-non-csv-file-2.2\"><span class=\"toc-item-num\">2.2&nbsp;&nbsp;</span>FUNCTION csv_to_df FOR csv file and non csv file</a></span></li><li><span><a href=\"#FUNCTION-head_csv_to_df-FOR-no-params\" data-toc-modified-id=\"FUNCTION-head_csv_to_df-FOR-no-params-2.3\"><span class=\"toc-item-num\">2.3&nbsp;&nbsp;</span>FUNCTION head_csv_to_df FOR no params</a></span></li><li><span><a href=\"#FUNCTION-head_csv_to_df-FOR-correct-params\" data-toc-modified-id=\"FUNCTION-head_csv_to_df-FOR-correct-params-2.4\"><span class=\"toc-item-num\">2.4&nbsp;&nbsp;</span>FUNCTION head_csv_to_df FOR correct params</a></span></li><li><span><a href=\"#FUNCTION-head_csv_to_df-FOR-incorrect-params\" data-toc-modified-id=\"FUNCTION-head_csv_to_df-FOR-incorrect-params-2.5\"><span class=\"toc-item-num\">2.5&nbsp;&nbsp;</span>FUNCTION head_csv_to_df FOR incorrect params</a></span></li><li><span><a href=\"#FUNCTION-merge_files_on_col-FOR-no-params\" data-toc-modified-id=\"FUNCTION-merge_files_on_col-FOR-no-params-2.6\"><span class=\"toc-item-num\">2.6&nbsp;&nbsp;</span>FUNCTION merge_files_on_col FOR no params</a></span></li><li><span><a href=\"#FUNCTION-merge_files_on_col-FOR-correct-params\" data-toc-modified-id=\"FUNCTION-merge_files_on_col-FOR-correct-params-2.7\"><span class=\"toc-item-num\">2.7&nbsp;&nbsp;</span>FUNCTION merge_files_on_col FOR correct params</a></span></li></ul></li></ul></div>"
   ]
  },
  {
   "cell_type": "markdown",
   "metadata": {},
   "source": [
    "# Imports"
   ]
  },
  {
   "cell_type": "code",
   "execution_count": 3,
   "metadata": {},
   "outputs": [],
   "source": [
    "from importnb import Notebook\n",
    "import pytest\n",
    "import pandas as pd\n",
    "import numpy as np\n",
    "from io import StringIO\n",
    "with __import__('importnb').Notebook():\n",
    "    import csv_to_dataframe"
   ]
  },
  {
   "cell_type": "markdown",
   "metadata": {},
   "source": [
    "# Test Functions"
   ]
  },
  {
   "cell_type": "markdown",
   "metadata": {},
   "source": [
    "## FUNCTION csv_to_df FOR no params"
   ]
  },
  {
   "cell_type": "code",
   "execution_count": 8,
   "metadata": {},
   "outputs": [],
   "source": [
    "def test_csv_to_dataframe_no_params():\n",
    "    '''Testing the correct error dictionary is returned when no parameters are specified'''\n",
    "    assert csv_to_dataframe.csv_to_df()=={\"df\":None}"
   ]
  },
  {
   "cell_type": "markdown",
   "metadata": {},
   "source": [
    "## FUNCTION csv_to_df FOR csv file and non csv file"
   ]
  },
  {
   "cell_type": "code",
   "execution_count": 5,
   "metadata": {},
   "outputs": [],
   "source": [
    "data=pd.DataFrame([[1,2,3],[1,2,3]])\n",
    "data.columns=['a','b','c']\n",
    "def test_csv():\n",
    "    '''Test that a correct df is created from a csv'''\n",
    "    csv_buffer = StringIO()\n",
    "    file_buff = data.to_csv(csv_buffer,index=False)\n",
    "    csv_buffer.seek(0)\n",
    "    assert csv_to_dataframe.csv_to_df(csv_buffer)['df'].equals(data)\n",
    "def test_non_csv():\n",
    "    '''Test that the html df is not correct'''\n",
    "    html_buffer = StringIO()\n",
    "    file_buff = data.to_html(html_buffer,index=False)\n",
    "    html_buffer.seek(0)\n",
    "    assert not csv_to_dataframe.csv_to_df(html_buffer)['df'].equals(data)"
   ]
  },
  {
   "cell_type": "markdown",
   "metadata": {},
   "source": [
    "## FUNCTION head_csv_to_df FOR no params"
   ]
  },
  {
   "cell_type": "code",
   "execution_count": 10,
   "metadata": {},
   "outputs": [],
   "source": [
    "def test_head_csv_to_dataframe_no_params():\n",
    "    '''Testing the correct error dictionary is returned when no parameters are specified'''\n",
    "    assert csv_to_dataframe.head_csv_to_df()=={\"df\":None}"
   ]
  },
  {
   "cell_type": "markdown",
   "metadata": {},
   "source": [
    "## FUNCTION head_csv_to_df FOR correct params"
   ]
  },
  {
   "cell_type": "code",
   "execution_count": 11,
   "metadata": {},
   "outputs": [],
   "source": [
    "def test_head_csv_to_df_correct():\n",
    "    correct_data=pd.DataFrame([[1,2,3],[1,2,3]],columns=['a','b','c'])\n",
    "    data=pd.DataFrame([['a','b','c'],[1,2,3],[1,2,3]],columns=[\"\",\"\",\"\"])\n",
    "    csv_buffer = StringIO()\n",
    "    file_buff = data.to_csv(csv_buffer,index=False)\n",
    "    csv_buffer.seek(0)\n",
    "    assert csv_to_dataframe.head_csv_to_df(file=csv_buffer,header=1)['df'].equals(correct_data)"
   ]
  },
  {
   "cell_type": "markdown",
   "metadata": {},
   "source": [
    "## FUNCTION head_csv_to_df FOR incorrect params"
   ]
  },
  {
   "cell_type": "code",
   "execution_count": 13,
   "metadata": {},
   "outputs": [],
   "source": [
    "def test_head_csv_to_df_incorrect():\n",
    "    data=pd.DataFrame([['a','b','c'],[1,2,3],[1,2,3]],columns=[\"\",\"\",\"\"])\n",
    "    csv_buffer = StringIO()\n",
    "    file_buff = data.to_csv(csv_buffer,index=False)\n",
    "    csv_buffer.seek(0)\n",
    "    assert csv_to_dataframe.head_csv_to_df(file=csv_buffer,header=90)['df']==None"
   ]
  },
  {
   "cell_type": "markdown",
   "metadata": {},
   "source": [
    "## FUNCTION merge_files_on_col FOR no params"
   ]
  },
  {
   "cell_type": "code",
   "execution_count": 6,
   "metadata": {},
   "outputs": [],
   "source": [
    "def test_csv_to_dataframe_no_params():\n",
    "    '''Testing the correct error dictionary is returned when no parameters are specified'''\n",
    "    assert csv_to_dataframe.merge_files_on_col()=={\"df\":None}"
   ]
  },
  {
   "cell_type": "markdown",
   "metadata": {},
   "source": [
    "## FUNCTION merge_files_on_col FOR correct params"
   ]
  },
  {
   "cell_type": "code",
   "execution_count": 20,
   "metadata": {},
   "outputs": [],
   "source": [
    "def test_merge_files_on_col_correct():\n",
    "    '''Test that the correct merged dataframe is returned'''\n",
    "    dfa=pd.DataFrame(columns=[\"x\",\"names\"],data=[[6,\"Joe\"],[2,\"egg\"],[3,\"Lucy\"]])\n",
    "    dfb=pd.DataFrame(columns=[\"y\",\"name\"],data=[[20,\"Joe\"],[8,\"Sophie\"],[32,\"Lucy\"]])\n",
    "    dfc=csv_to_dataframe.merge_files_on_col(df=dfa,new_df=dfb,new_merge_col=\"name\",master_merge_col=\"names\",\n",
    "                           new_other_cols=[\"y\"])\n",
    "    dfd=pd.DataFrame(columns=[\"x\",\"names\",\"y\"],data=[[2,\"EGG\",np.nan],[6,\"JOE\",20],[3,\"LUCY\",32],[np.nan,\"SOPHIE\",8]])\n",
    "    dfd.index=[1,0,2,3]\n",
    "    assert dfd.equals(dfc['df'])"
   ]
  }
 ],
 "metadata": {
  "kernelspec": {
   "display_name": "Python 3",
   "language": "python",
   "name": "python3"
  },
  "language_info": {
   "codemirror_mode": {
    "name": "ipython",
    "version": 3
   },
   "file_extension": ".py",
   "mimetype": "text/x-python",
   "name": "python",
   "nbconvert_exporter": "python",
   "pygments_lexer": "ipython3",
   "version": "3.9.0"
  },
  "toc": {
   "base_numbering": 1,
   "nav_menu": {},
   "number_sections": true,
   "sideBar": true,
   "skip_h1_title": false,
   "title_cell": "Table of Contents",
   "title_sidebar": "Contents",
   "toc_cell": true,
   "toc_position": {
    "height": "calc(100% - 180px)",
    "left": "10px",
    "top": "150px",
    "width": "198px"
   },
   "toc_section_display": true,
   "toc_window_display": true
  }
 },
 "nbformat": 4,
 "nbformat_minor": 4
}
