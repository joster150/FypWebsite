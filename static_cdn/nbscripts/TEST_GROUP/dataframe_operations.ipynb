{
 "cells": [
  {
   "cell_type": "markdown",
   "metadata": {},
   "source": [
    "This module performs performs operations on pandas dataframes"
   ]
  },
  {
   "cell_type": "markdown",
   "metadata": {
    "toc": true
   },
   "source": [
    "<h1>Table of Contents<span class=\"tocSkip\"></span></h1>\n",
    "<div class=\"toc\"><ul class=\"toc-item\"><li><span><a href=\"#Imports\" data-toc-modified-id=\"Imports-1\"><span class=\"toc-item-num\">1&nbsp;&nbsp;</span>Imports</a></span></li><li><span><a href=\"#Define-all-functions-within-notebook\" data-toc-modified-id=\"Define-all-functions-within-notebook-2\"><span class=\"toc-item-num\">2&nbsp;&nbsp;</span>Define all functions within notebook</a></span></li><li><span><a href=\"#Define-all-functions\" data-toc-modified-id=\"Define-all-functions-3\"><span class=\"toc-item-num\">3&nbsp;&nbsp;</span>Define all functions</a></span><ul class=\"toc-item\"><li><span><a href=\"#FUNCTION---df_describe\" data-toc-modified-id=\"FUNCTION---df_describe-3.1\"><span class=\"toc-item-num\">3.1&nbsp;&nbsp;</span>FUNCTION - df_describe</a></span></li><li><span><a href=\"#FUNCTION---df_convert\" data-toc-modified-id=\"FUNCTION---df_convert-3.2\"><span class=\"toc-item-num\">3.2&nbsp;&nbsp;</span>FUNCTION - df_convert</a></span></li><li><span><a href=\"#FUNCTION---df_multiply\" data-toc-modified-id=\"FUNCTION---df_multiply-3.3\"><span class=\"toc-item-num\">3.3&nbsp;&nbsp;</span>FUNCTION - df_multiply</a></span></li></ul></li></ul></div>"
   ]
  },
  {
   "cell_type": "markdown",
   "metadata": {},
   "source": [
    "# Imports"
   ]
  },
  {
   "cell_type": "code",
   "execution_count": 1,
   "metadata": {},
   "outputs": [],
   "source": [
    "import pandas as pd\n",
    "from multiprocessing import Pool\n",
    "import multiprocessing"
   ]
  },
  {
   "cell_type": "markdown",
   "metadata": {},
   "source": [
    "# Define all functions within notebook"
   ]
  },
  {
   "cell_type": "code",
   "execution_count": 44,
   "metadata": {},
   "outputs": [],
   "source": [
    "def in_out_def():\n",
    "    return {\n",
    "        'df_describe':{'inputs':{'df':\"variable\"},'outputs':{\"df\":\"variable\"}},\n",
    "        #'df_convert':{'inputs':{'df':'variable','columns':'text_input','type':'choice[Date,Integer,Float,Object]'}\n",
    "        #              ,'outputs':{'df':'variable'}},\n",
    "        'df_multiply':{'inputs':{'df':'variable','columns':'text_input','multiple':'table_param'},\n",
    "                       'outputs':{'df':'variable'}}\n",
    "            }"
   ]
  },
  {
   "cell_type": "markdown",
   "metadata": {},
   "source": [
    "# Define all functions"
   ]
  },
  {
   "cell_type": "markdown",
   "metadata": {},
   "source": [
    "## FUNCTION - df_describe\n",
    "Get statistical description of df"
   ]
  },
  {
   "cell_type": "code",
   "execution_count": 45,
   "metadata": {},
   "outputs": [],
   "source": [
    "def df_describe(df=None):\n",
    "    '''Take dataframe and return statistical summary'''\n",
    "    try:\n",
    "        describe=df.describe()\n",
    "        describe['Stat']=describe.index\n",
    "        return {\"df\":describe}\n",
    "    except:\n",
    "        pass\n",
    "    return {\"df\":None}"
   ]
  },
  {
   "cell_type": "markdown",
   "metadata": {},
   "source": [
    "## FUNCTION - df_convert \n",
    "Convert df column type"
   ]
  },
  {
   "cell_type": "code",
   "execution_count": 46,
   "metadata": {},
   "outputs": [],
   "source": [
    "def df_convert(df=None,columns=None,type=None):\n",
    "    if col_and_vals['convert_condition_opt']!='Date':\n",
    "        temp=convert_standard_column_type(self.file,col_and_vals['convert_col_list'],col_and_vals['convert_condition_opt'])\n",
    "    else:\n",
    "        format =(col_and_vals['date_format_entry'] if col_and_vals['date_format_opt']=='Custom' else col_and_vals['date_format_opt'])\n",
    "        temp=convert_date_column_type(self.file,col_and_vals['convert_col_list'],format)\n",
    "    return temp"
   ]
  },
  {
   "cell_type": "code",
   "execution_count": 47,
   "metadata": {},
   "outputs": [],
   "source": [
    "def convert_standard_column_type(file,columns,chosen_type):\n",
    "    df=file.copy()\n",
    "    if chosen_type in ['Integer','Float']:\n",
    "        for x in columns:\n",
    "            df[x]=pd.to_numeric(df[x],downcast=chosen_type.lower(),errors='coerce')\n",
    "    elif chosen_type in ['Object']:\n",
    "        for x in columns:\n",
    "            df[x]=df[x].astype(chosen_type.lower())\n",
    "    return df\n",
    "def convert_date_column_type(file,columns,format_given):\n",
    "    with Pool(cores) as pool:\n",
    "        results=pool.starmap(convert_date_column_type_pool,zip((np.array_split(file,cores)),repeat(columns),repeat(format_given)))\n",
    "    return pd.concat(results)\n",
    "def convert_date_column_type_pool(file,columns,format_given):\n",
    "    df=file.copy()\n",
    "    for x in columns:\n",
    "        if df[x].dtype!='datetime64[ns]':\n",
    "            if format_given=='%H%M%S':\n",
    "                df[x]=df[x].apply(lambda t:time_convert(t,format_given))\n",
    "            else:\n",
    "                df[x]=pd.to_datetime(df[x],format=format_given,errors='coerce')\n",
    "    return df\n",
    "def time_convert(x,form):\n",
    "    if len(str(x))==5:\n",
    "        x='0'+str(x)\n",
    "    elif len(str(x))==4:\n",
    "        x='00'+str(x)\n",
    "    elif len(str(x))==3:\n",
    "        x='000'+str(x)\n",
    "    elif len(str(x))==2:\n",
    "        x='000'+str(x)\n",
    "    elif len(str(x))==1:\n",
    "        x='000'+str(x)\n",
    "    try: \n",
    "        time=dt.datetime.time(pd.to_datetime(x,format=form))\n",
    "    except:\n",
    "        time=np.nan\n",
    "    return time"
   ]
  },
  {
   "cell_type": "markdown",
   "metadata": {},
   "source": [
    "## FUNCTION - df_multiply\n",
    "Multiple column by constant"
   ]
  },
  {
   "cell_type": "code",
   "execution_count": 50,
   "metadata": {},
   "outputs": [],
   "source": [
    "def df_multiply(df=None,columns=None,multiple=None):\n",
    "    '''Multiply by a table parameter'''\n",
    "    try:\n",
    "        if isinstance(df,pd.DataFrame) and isinstance(columns,str) and isinstance(multiple,str):\n",
    "            df2=df.copy()\n",
    "            cols=\"\".join(columns.split()).split(',')\n",
    "            for c in cols:\n",
    "                if 'f' in df[c].dtype.str:\n",
    "                    df2=convert_standard_column_type(df2,[c],'Float')\n",
    "                    print(df2)\n",
    "                df2[c]=df2[c]*float(multiple)\n",
    "            return {'df':df2}\n",
    "    except:\n",
    "        pass\n",
    "    return {'df':None}"
   ]
  },
  {
   "cell_type": "code",
   "execution_count": null,
   "metadata": {},
   "outputs": [],
   "source": []
  }
 ],
 "metadata": {
  "kernelspec": {
   "display_name": "Python 3",
   "language": "python",
   "name": "python3"
  },
  "language_info": {
   "codemirror_mode": {
    "name": "ipython",
    "version": 3
   },
   "file_extension": ".py",
   "mimetype": "text/x-python",
   "name": "python",
   "nbconvert_exporter": "python",
   "pygments_lexer": "ipython3",
   "version": "3.9.0"
  },
  "toc": {
   "base_numbering": 1,
   "nav_menu": {},
   "number_sections": true,
   "sideBar": true,
   "skip_h1_title": false,
   "title_cell": "Table of Contents",
   "title_sidebar": "Contents",
   "toc_cell": true,
   "toc_position": {
    "height": "calc(100% - 180px)",
    "left": "10px",
    "top": "150px",
    "width": "170px"
   },
   "toc_section_display": true,
   "toc_window_display": true
  }
 },
 "nbformat": 4,
 "nbformat_minor": 4
}
