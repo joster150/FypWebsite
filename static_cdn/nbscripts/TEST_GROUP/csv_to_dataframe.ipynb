{
 "cells": [
  {
   "cell_type": "markdown",
   "metadata": {},
   "source": [
    "This module performs performs conversions from csv to pandas dataframes"
   ]
  },
  {
   "cell_type": "markdown",
   "metadata": {
    "toc": true
   },
   "source": [
    "<h1>Table of Contents<span class=\"tocSkip\"></span></h1>\n",
    "<div class=\"toc\"><ul class=\"toc-item\"><li><span><a href=\"#Imports\" data-toc-modified-id=\"Imports-1\"><span class=\"toc-item-num\">1&nbsp;&nbsp;</span>Imports</a></span></li><li><span><a href=\"#Define-all-functions-within-notebook\" data-toc-modified-id=\"Define-all-functions-within-notebook-2\"><span class=\"toc-item-num\">2&nbsp;&nbsp;</span>Define all functions within notebook</a></span></li><li><span><a href=\"#Define-all-functions\" data-toc-modified-id=\"Define-all-functions-3\"><span class=\"toc-item-num\">3&nbsp;&nbsp;</span>Define all functions</a></span><ul class=\"toc-item\"><li><span><a href=\"#FUNCTION---csv_to_df\" data-toc-modified-id=\"FUNCTION---csv_to_df-3.1\"><span class=\"toc-item-num\">3.1&nbsp;&nbsp;</span>FUNCTION - csv_to_df</a></span></li><li><span><a href=\"#FUNCTION---head_csv_to_df\" data-toc-modified-id=\"FUNCTION---head_csv_to_df-3.2\"><span class=\"toc-item-num\">3.2&nbsp;&nbsp;</span>FUNCTION - head_csv_to_df</a></span></li><li><span><a href=\"#FUNCTION---merge_files_on_col\" data-toc-modified-id=\"FUNCTION---merge_files_on_col-3.3\"><span class=\"toc-item-num\">3.3&nbsp;&nbsp;</span>FUNCTION - merge_files_on_col</a></span></li><li><span><a href=\"#FUNCTION---stack_csvs_into_df\" data-toc-modified-id=\"FUNCTION---stack_csvs_into_df-3.4\"><span class=\"toc-item-num\">3.4&nbsp;&nbsp;</span>FUNCTION - stack_csvs_into_df</a></span></li></ul></li></ul></div>"
   ]
  },
  {
   "cell_type": "markdown",
   "metadata": {},
   "source": [
    "# Imports"
   ]
  },
  {
   "cell_type": "code",
   "execution_count": 47,
   "metadata": {},
   "outputs": [],
   "source": [
    "import pandas as pd"
   ]
  },
  {
   "cell_type": "markdown",
   "metadata": {},
   "source": [
    "# Define all functions within notebook"
   ]
  },
  {
   "cell_type": "code",
   "execution_count": 16,
   "metadata": {},
   "outputs": [],
   "source": [
    "def in_out_def():\n",
    "    return {\n",
    "        'csv_to_df':{'inputs':{\"file\":\"file_browse\"},'outputs':{\"df\":\"variable\"}},\n",
    "        'head_csv_to_df':{'inputs':{\"file\":\"file_browse\",\"header\":\"int_input\"},'outputs':{\"df\":\"variable\"}},\n",
    "        'merge_files_on_col':{'inputs':{'df':\"variable\",\"new_df\":\"variable\",\"new_merge_col\":\"text_input\",\n",
    "                                        \"master_merge_col\":\"text_input\",\"new_other_cols\":\"text_input\"}\n",
    "                              ,'outputs':{\"df\":\"variable\"}},\n",
    "        'stack_csvs_into_df':{'inputs':{'files':'files_browse','header_row':\"int_input\"},'outputs':{\"df\":\"variable\"}}\n",
    "    }"
   ]
  },
  {
   "cell_type": "markdown",
   "metadata": {},
   "source": [
    "# Define all functions"
   ]
  },
  {
   "cell_type": "markdown",
   "metadata": {},
   "source": [
    "## FUNCTION - csv_to_df\n",
    "Simple csv to df convert usign default settings"
   ]
  },
  {
   "cell_type": "code",
   "execution_count": 3,
   "metadata": {},
   "outputs": [],
   "source": [
    "def csv_to_df(file=None):\n",
    "    '''Take csv file and convert to dataframe'''\n",
    "    if file != None:\n",
    "        try:\n",
    "            return {\"df\":pd.read_csv(file)}\n",
    "        except:\n",
    "            pass\n",
    "    return {\"df\":None}"
   ]
  },
  {
   "cell_type": "markdown",
   "metadata": {},
   "source": [
    "## FUNCTION - head_csv_to_df"
   ]
  },
  {
   "cell_type": "code",
   "execution_count": 4,
   "metadata": {},
   "outputs": [],
   "source": [
    "def head_csv_to_df(file=None,header=None):\n",
    "    '''Take csv file and convert to dataframe'''\n",
    "    if file != None and header!=None:\n",
    "        try:\n",
    "            return {\"df\":pd.read_csv(file,header=header)}\n",
    "        except:\n",
    "            pass\n",
    "    return {\"df\":None}"
   ]
  },
  {
   "cell_type": "markdown",
   "metadata": {},
   "source": [
    "## FUNCTION - merge_files_on_col"
   ]
  },
  {
   "cell_type": "code",
   "execution_count": 2,
   "metadata": {},
   "outputs": [],
   "source": [
    "def merge_files_on_col(df=None,new_df=None,new_merge_col=None,master_merge_col=None,\n",
    "                       new_other_cols=None):\n",
    "    '''Take two dfs and merge on specified columns, keeping specified columns of second df'''\n",
    "    if isinstance(df,pd.DataFrame) and isinstance(new_df,pd.DataFrame) and None not in [new_merge_col,master_merge_col,new_other_cols]:\n",
    "        if (not df.empty) and (not new_df.empty):\n",
    "            #try:\n",
    "            if not isinstance(new_other_cols,list):\n",
    "                    new_other_cols=\"\".join(new_other_cols.split()).split(',')\n",
    "            print(df,new_df,new_merge_col,master_merge_col,new_other_cols)\n",
    "            to_merge=new_df[[new_merge_col]+new_other_cols].copy()\n",
    "            to_merge[new_merge_col]=to_merge[new_merge_col].apply(lambda val:''.join(e.upper() for e in str(val) if e.isalnum()))\n",
    "            df[master_merge_col]=df[master_merge_col].apply(lambda val:''.join(e.upper() for e in str(val) if e.isalnum()))\n",
    "            to_merge=to_merge.drop_duplicates(subset=new_merge_col,keep='last')\n",
    "            to_merge=to_merge.dropna()\n",
    "            df=pd.merge(df,to_merge,left_on=master_merge_col,right_on=new_merge_col,how='outer')\n",
    "            if master_merge_col!=new_merge_col:\n",
    "                df[master_merge_col]=df[master_merge_col].fillna(df[new_merge_col])\n",
    "                df=df.drop(new_merge_col,axis=1)\n",
    "            df.sort_values(by=master_merge_col,inplace=True)\n",
    "            return {'df':df}\n",
    "            #except:\n",
    "            #    pass\n",
    "    return {'df':None}"
   ]
  },
  {
   "cell_type": "markdown",
   "metadata": {},
   "source": [
    "## FUNCTION - stack_csvs_into_df"
   ]
  },
  {
   "cell_type": "code",
   "execution_count": 29,
   "metadata": {},
   "outputs": [],
   "source": [
    "def find_common_cols(list_of_dfs):\n",
    "    common_cols=[*list_of_dfs[0].columns]\n",
    "    for df in list_of_dfs[1:]:\n",
    "        common_cols=[*set(common_cols).intersection(set(df.columns))]\n",
    "        #for col in df.columns:\n",
    "         #   if col not in common_cols:\n",
    "        #        common_cols.remove(col)\n",
    "    return common_cols"
   ]
  },
  {
   "cell_type": "code",
   "execution_count": 5,
   "metadata": {},
   "outputs": [],
   "source": [
    "def stack_csvs_into_df(files=None,header_row=None):\n",
    "    '''Stack multiple csvs on top of each other in a dataframe'''\n",
    "    print(files)\n",
    "    #try:\n",
    "    dfs=[]\n",
    "    for f in files:\n",
    "        dfs.append(pd.read_csv(f,header=header_row))\n",
    "    common_cols=find_common_cols(dfs)\n",
    "    master_df=pd.DataFrame(columns=common_cols)\n",
    "    for df in dfs:\n",
    "        master_df=pd.concat([master_df,df[common_cols]])\n",
    "    master_df.drop_duplicates(inplace=True)\n",
    "    return {\"df\":master_df}\n",
    "    #except:\n",
    "    #    pass\n",
    "    return {\"df\":None}"
   ]
  },
  {
   "cell_type": "code",
   "execution_count": null,
   "metadata": {},
   "outputs": [],
   "source": []
  }
 ],
 "metadata": {
  "kernelspec": {
   "display_name": "Python 3",
   "language": "python",
   "name": "python3"
  },
  "language_info": {
   "codemirror_mode": {
    "name": "ipython",
    "version": 3
   },
   "file_extension": ".py",
   "mimetype": "text/x-python",
   "name": "python",
   "nbconvert_exporter": "python",
   "pygments_lexer": "ipython3",
   "version": "3.9.0"
  },
  "toc": {
   "base_numbering": 1,
   "nav_menu": {},
   "number_sections": true,
   "sideBar": true,
   "skip_h1_title": false,
   "title_cell": "Table of Contents",
   "title_sidebar": "Contents",
   "toc_cell": true,
   "toc_position": {
    "height": "calc(100% - 180px)",
    "left": "10px",
    "top": "150px",
    "width": "170px"
   },
   "toc_section_display": true,
   "toc_window_display": true
  }
 },
 "nbformat": 4,
 "nbformat_minor": 4
}
