{
 "cells": [
  {
   "cell_type": "markdown",
   "metadata": {},
   "source": [
    "This notebook contains functions relevent for the machine learning case study"
   ]
  },
  {
   "cell_type": "markdown",
   "metadata": {
    "toc": true
   },
   "source": [
    "<h1>Table of Contents<span class=\"tocSkip\"></span></h1>\n",
    "<div class=\"toc\"><ul class=\"toc-item\"><li><span><a href=\"#Imports\" data-toc-modified-id=\"Imports-1\"><span class=\"toc-item-num\">1&nbsp;&nbsp;</span>Imports</a></span></li><li><span><a href=\"#Define-all-functions-within-notebook\" data-toc-modified-id=\"Define-all-functions-within-notebook-2\"><span class=\"toc-item-num\">2&nbsp;&nbsp;</span>Define all functions within notebook</a></span></li><li><span><a href=\"#The-functions\" data-toc-modified-id=\"The-functions-3\"><span class=\"toc-item-num\">3&nbsp;&nbsp;</span>The functions</a></span><ul class=\"toc-item\"><li><span><a href=\"#FUNCTION---linear_reg_model_creation\" data-toc-modified-id=\"FUNCTION---linear_reg_model_creation-3.1\"><span class=\"toc-item-num\">3.1&nbsp;&nbsp;</span>FUNCTION - linear_reg_model_creation</a></span></li><li><span><a href=\"#FUNCTION---prediction_using_model\" data-toc-modified-id=\"FUNCTION---prediction_using_model-3.2\"><span class=\"toc-item-num\">3.2&nbsp;&nbsp;</span>FUNCTION - prediction_using_model</a></span></li><li><span><a href=\"#FUNCTION---single_step_create_predict\" data-toc-modified-id=\"FUNCTION---single_step_create_predict-3.3\"><span class=\"toc-item-num\">3.3&nbsp;&nbsp;</span>FUNCTION - single_step_create_predict</a></span></li></ul></li></ul></div>"
   ]
  },
  {
   "cell_type": "markdown",
   "metadata": {},
   "source": [
    "# Imports"
   ]
  },
  {
   "cell_type": "code",
   "execution_count": 14,
   "metadata": {},
   "outputs": [],
   "source": [
    "import pandas as pd\n",
    "import matplotlib.pyplot as plt\n",
    "import seaborn as sns\n",
    "from sklearn import preprocessing\n",
    "from sklearn.model_selection import train_test_split\n",
    "from sklearn.linear_model import LinearRegression\n",
    "from sklearn.metrics import mean_squared_error\n",
    "from importnb import Notebook\n",
    "with __import__('importnb').Notebook():\n",
    "    from df_to_fig import df_to_hist"
   ]
  },
  {
   "cell_type": "markdown",
   "metadata": {},
   "source": [
    "# Define all functions within notebook"
   ]
  },
  {
   "cell_type": "code",
   "execution_count": 15,
   "metadata": {},
   "outputs": [],
   "source": [
    "def in_out_def():\n",
    "    return {\n",
    "        'linear_reg_model_creation': {'inputs': {\"df\": \"variable\", \"output_column\": \"text_input\",\n",
    "                                                 \"columns_not_required\": \"text_input\"},\n",
    "                                      'outputs': {\"reg\": \"variable\", 'scaler_used': 'variable',\n",
    "                                                  \"mean_squared_error\": \"variable\", \"regression_cols\": \"variable\"}},\n",
    "        'prediction_using_model': {'inputs': {\"model\": \"variable\", 'scaler_used': 'variable',\n",
    "                                              'df': \"variable\", \"regression_cols\": 'variable'},\n",
    "                                   'outputs': {'df': 'variable'}},\n",
    "        'single_step_create_predict': {'inputs': {'training_csv': 'file_browse', 'predict_csv': 'file_browse',\n",
    "                                                  'output_column': \"text_input\", 'columns_not_required': \"text_input\"},\n",
    "                                       'outputs': {'df': 'variable', \"fig\": \"graph\"}}\n",
    "\n",
    "\n",
    "    }"
   ]
  },
  {
   "cell_type": "markdown",
   "metadata": {},
   "source": [
    "# The functions"
   ]
  },
  {
   "cell_type": "markdown",
   "metadata": {},
   "source": [
    "## FUNCTION - linear_reg_model_creation"
   ]
  },
  {
   "cell_type": "code",
   "execution_count": 16,
   "metadata": {},
   "outputs": [],
   "source": [
    "def linear_reg_model_creation(df=None, output_column=None, columns_not_required=None):\n",
    "    '''Take df, a target column, and columns to discard and create a linear regression model relating the inputs and outputs'''\n",
    "    try:\n",
    "        # ensure the input arguments are the correct type\n",
    "        if isinstance(df, pd.DataFrame) and isinstance(output_column, str) and isinstance(columns_not_required, str):\n",
    "            # make sure there are no spaces in the column header names\n",
    "            cols = [a.replace(\" \", \"_\") for a in df.columns]\n",
    "            df.columns = cols  # rename columns using spaceless names\n",
    "            columns_not_required = \"\".join(columns_not_required.split()).split(\n",
    "                ',')  # convert text list to actual list after removing whitespace\n",
    "            # ensure that column names provided exist in DataFrame\n",
    "            if output_column in [*df.columns] and False not in [True if cc in [*df.columns] else False for cc in columns_not_required]:\n",
    "                df = df.drop(columns_not_required, axis=1)\n",
    "                # create a DataSeries of the output column\n",
    "                Y = df[output_column]\n",
    "                # create a DataFrame with only prediction columns\n",
    "                X = df.drop([output_column], axis=1)\n",
    "                # initialise a scaler for normalising the data\n",
    "                min_max_scaler = preprocessing.MinMaxScaler()\n",
    "                # scale x\n",
    "                X_scaled = pd.DataFrame(\n",
    "                    min_max_scaler.fit_transform(X), columns=X.columns)\n",
    "                # randomly split the DataFrame rows. 70% of them will be used for training, 30% for testing the trained model\n",
    "                X_train, X_test, Y_train, Y_test = train_test_split(\n",
    "                    X_scaled, Y, test_size=0.3, random_state=42)\n",
    "                reg = LinearRegression()  # initialise a ML model\n",
    "                _ = reg.fit(X_train, Y_train)  # train the model\n",
    "                # use the model to predict using the test dataset\n",
    "                predictions = reg.predict(X_test)\n",
    "                # assess the performance of the model\n",
    "                error = mean_squared_error(Y_test, predictions)\n",
    "                return {\"reg\": reg, \"scaler_used\": min_max_scaler, \"mean_squared_error\": error, \"regression_cols\": [*X_test.columns]}\n",
    "    except:\n",
    "        pass\n",
    "    return {\"reg\": None, \"scaler_used\": None, \"mean_squared_error\": None, \"regression_cols\": None}"
   ]
  },
  {
   "cell_type": "markdown",
   "metadata": {},
   "source": [
    "## FUNCTION - prediction_using_model"
   ]
  },
  {
   "cell_type": "code",
   "execution_count": 17,
   "metadata": {},
   "outputs": [],
   "source": [
    "def prediction_using_model(model=None, scaler_used=None, df=None, regression_cols=None):\n",
    "    '''Use a sklearn ML model to predict outputs for a provided data set'''\n",
    "    if isinstance(regression_cols, str):  # if cols in string list form convert to python list\n",
    "        try:\n",
    "            regression_cols = \"\".join(regression_cols.split()).split(',')\n",
    "        except:\n",
    "            pass\n",
    "    # ensure input args are the correct types\n",
    "    if isinstance(model, type(LinearRegression())) and isinstance(scaler_used, type(preprocessing.MinMaxScaler())) and isinstance(df, pd.DataFrame) and isinstance(regression_cols, list):\n",
    "        try:\n",
    "            X = df[regression_cols]  # select only columns used in prediction\n",
    "            X_scaled = pd.DataFrame(scaler_used.transform(\n",
    "                X), columns=X.columns)  # scale the DataFrame\n",
    "            predictions = model.predict(X_scaled)  # make the predictiosn\n",
    "            X[\"Predicted_%_Silica_Concentrate\"] = pd.Series(\n",
    "                predictions)  # add the predictions to  the DataFrame\n",
    "            return{\"df\": X}\n",
    "        except:\n",
    "            pass\n",
    "    return{\"df\": None}"
   ]
  },
  {
   "cell_type": "markdown",
   "metadata": {},
   "source": [
    "## FUNCTION - single_step_create_predict"
   ]
  },
  {
   "cell_type": "code",
   "execution_count": 2,
   "metadata": {},
   "outputs": [],
   "source": [
    "def single_step_create_predict(training_csv=None, predict_csv=None, output_column=None, columns_not_required=None):\n",
    "    '''Single step model creation and prediction'''\n",
    "    df=predict_df=None\n",
    "    try:\n",
    "        df = pd.read_csv(training_csv)\n",
    "        predict_df = pd.read_csv(predict_csv)\n",
    "        # create a list of tupples. each tuple contains a list of columns and the value to multiply them by\n",
    "        conversions = [(['Starch_Flow', 'Amina_Flow', 'Ore_Pulp_Flow'], 101.941), (['Ore_Pulp_Density'], 0.0000160185), (['Flotation_Column_01_Level', 'Flotation_Column_02_Level'\n",
    "                                                                                                                          ], 25.4)]\n",
    "        # t raverse this lise and apply the conversions\n",
    "        for conv_tuple in conversions:\n",
    "            for col in conv_tuple[0]:\n",
    "                predict_df[col] = pd.to_numeric(predict_df[col], errors='coerce')\n",
    "                predict_df[col] = predict_df[col]*conv_tuple[1]\n",
    "    except:\n",
    "        pass\n",
    "    # check the input arguments types are correct\n",
    "    if isinstance(df, pd.DataFrame) and isinstance(predict_df, pd.DataFrame) and isinstance(output_column,\n",
    "                                                                                            str) and isinstance(columns_not_required, str):\n",
    "        cols_list = \"\".join(columns_not_required.split()).split(\n",
    "            ',')  # convert text list to actual list after removing whitespace for next if statement only\n",
    "        # ensure that column names provided exist in DataFrame\n",
    "        if output_column in [*df.columns] and False not in [True if cc in [*df.columns] else False for cc in cols_list]:\n",
    "            # create model, predict impurities, and plot results using other functions\n",
    "            dict_a = linear_reg_model_creation(\n",
    "                df=df, output_column=output_column, columns_not_required=columns_not_required)\n",
    "            dict_b = prediction_using_model(\n",
    "                model=dict_a[\"reg\"], scaler_used=dict_a[\"scaler_used\"], df=predict_df, regression_cols=dict_a[\"regression_cols\"])\n",
    "            dict_c = df_to_hist(\n",
    "                df=dict_b['df'], data='Predicted_%_Silica_Concentrate', group_by='None', bins=5)\n",
    "            dict_b['fig'] = dict_c['fig']\n",
    "            return dict_b\n",
    "    return {'df': None, \"fig\": None}"
   ]
  },
  {
   "cell_type": "code",
   "execution_count": 19,
   "metadata": {},
   "outputs": [],
   "source": [
    "#single_step_create_predict(training_csv=\"mining_training.csv\",predict_csv=\"Day_Input.csv\", output_column='%_Silica_Concentrate', columns_not_required='date,Ore_Pulp_pH,%_Iron_Concentrate')"
   ]
  }
 ],
 "metadata": {
  "kernelspec": {
   "display_name": "Python 3",
   "language": "python",
   "name": "python3"
  },
  "language_info": {
   "codemirror_mode": {
    "name": "ipython",
    "version": 3
   },
   "file_extension": ".py",
   "mimetype": "text/x-python",
   "name": "python",
   "nbconvert_exporter": "python",
   "pygments_lexer": "ipython3",
   "version": "3.9.2"
  },
  "toc": {
   "base_numbering": 1,
   "nav_menu": {},
   "number_sections": true,
   "sideBar": true,
   "skip_h1_title": false,
   "title_cell": "Table of Contents",
   "title_sidebar": "Contents",
   "toc_cell": true,
   "toc_position": {
    "height": "calc(100% - 180px)",
    "left": "10px",
    "top": "150px",
    "width": "221px"
   },
   "toc_section_display": true,
   "toc_window_display": true
  }
 },
 "nbformat": 4,
 "nbformat_minor": 4
}
