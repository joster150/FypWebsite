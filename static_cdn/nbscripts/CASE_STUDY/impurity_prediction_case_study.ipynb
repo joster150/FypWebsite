{
 "cells": [
  {
   "cell_type": "markdown",
   "metadata": {},
   "source": [
    "This notebook contains functions relevent for the machine learning case study"
   ]
  },
  {
   "cell_type": "markdown",
   "metadata": {
    "toc": true
   },
   "source": [
    "<h1>Table of Contents<span class=\"tocSkip\"></span></h1>\n",
    "<div class=\"toc\"><ul class=\"toc-item\"><li><span><a href=\"#Imports\" data-toc-modified-id=\"Imports-1\"><span class=\"toc-item-num\">1&nbsp;&nbsp;</span>Imports</a></span></li><li><span><a href=\"#Define-all-functions-within-notebook\" data-toc-modified-id=\"Define-all-functions-within-notebook-2\"><span class=\"toc-item-num\">2&nbsp;&nbsp;</span>Define all functions within notebook</a></span></li><li><span><a href=\"#Define-all-functions\" data-toc-modified-id=\"Define-all-functions-3\"><span class=\"toc-item-num\">3&nbsp;&nbsp;</span>Define all functions</a></span><ul class=\"toc-item\"><li><span><a href=\"#FUNCTION---linear_reg_model_creation\" data-toc-modified-id=\"FUNCTION---linear_reg_model_creation-3.1\"><span class=\"toc-item-num\">3.1&nbsp;&nbsp;</span>FUNCTION - linear_reg_model_creation</a></span></li><li><span><a href=\"#FUNCTION---prediction_using_model\" data-toc-modified-id=\"FUNCTION---prediction_using_model-3.2\"><span class=\"toc-item-num\">3.2&nbsp;&nbsp;</span>FUNCTION - prediction_using_model</a></span></li><li><span><a href=\"#FUNCTION---single_step_create_predict\" data-toc-modified-id=\"FUNCTION---single_step_create_predict-3.3\"><span class=\"toc-item-num\">3.3&nbsp;&nbsp;</span>FUNCTION - single_step_create_predict</a></span></li></ul></li><li><span><a href=\"#Help-with-Markdown-cells\" data-toc-modified-id=\"Help-with-Markdown-cells-4\"><span class=\"toc-item-num\">4&nbsp;&nbsp;</span>Help with Markdown cells</a></span></li><li><span><a href=\"#Remember-you-can-use-latex-equations\" data-toc-modified-id=\"Remember-you-can-use-latex-equations-5\"><span class=\"toc-item-num\">5&nbsp;&nbsp;</span>Remember you can use latex equations</a></span></li></ul></div>"
   ]
  },
  {
   "cell_type": "markdown",
   "metadata": {},
   "source": [
    "# Imports"
   ]
  },
  {
   "cell_type": "code",
   "execution_count": 1,
   "metadata": {},
   "outputs": [],
   "source": [
    "import pandas as pd\n",
    "import matplotlib.pyplot as plt\n",
    "import seaborn as sns\n",
    "from sklearn import preprocessing\n",
    "from sklearn.model_selection import train_test_split\n",
    "from sklearn.linear_model import LinearRegression\n",
    "from sklearn.metrics import mean_squared_error"
   ]
  },
  {
   "cell_type": "markdown",
   "metadata": {},
   "source": [
    "# Define all functions within notebook\n",
    "This function will be read by the website to inform import functional decisions &mdash; so be careful!\n",
    "\n",
    "\n",
    "Some rules:\n",
    "1. **Must** be a function called **in_out_def()**\n",
    "2. **Must return a dictionary in the form:**  \n",
    "        {  \n",
    "        \"func_1_name\":  \n",
    "        {   \n",
    "        'inputs: {\"param_1\": \"param_type\", \"param_2\": \"param_type\"}  \n",
    "        'outputs: {\"output_param_1\": \"output_param_type\"}  \n",
    "        },  \n",
    "        \"func_2_name\":  \n",
    "        {  \n",
    "        'inputs: {\"param_1\": \"param_type\", \"param_2\": \"param_type\"}  \n",
    "        'outputs: {\"output_param_1\": \"output_param_type\"}  \n",
    "        },  \n",
    "        }  \n",
    "3. Input parameter types include:\n",
    "    - \"variable\" (for passing a variable from a previous step)\n",
    "    - \"text_input\" (for text input by user)\n",
    "    - \"file_browse\" (for user providing a file)\n",
    "    - \"files_browse\" (for user providing multiple files)\n",
    "    - \"float_input\" (for user providing a float value)\n",
    "    - \"int_input\" (for user providing an integer value)\n",
    "    - \"boolean\" (for providing a true or false value)\n",
    "    - \"choice[options]\" (for providing specific options to choose from)"
   ]
  },
  {
   "cell_type": "code",
   "execution_count": 2,
   "metadata": {},
   "outputs": [],
   "source": [
    "def in_out_def():\n",
    "    return {\n",
    "        'linear_reg_model_creation': {'inputs': {\"df\": \"variable\", \"output_column\": \"text_input\",\n",
    "                                     \"columns_not_required\": \"text_input\"},\n",
    "                      'outputs': {\"reg\": \"variable\",'scaler_used':'variable',\n",
    "                                  \"mean_squared_error\":\"variable\",\"regression_cols\":\"variable\"}},\n",
    "        'prediction_using_model':{'inputs':{\"model\":\"variable\",'scaler_used':'variable',\n",
    "                                            'df':\"variable\",\"regression_cols\":'variable'},\n",
    "                      'outputs':{'df':'variable'}},\n",
    "        'single_step_create_predict':{'inputs':{'training_csv':'file_browse','predict_csv':'file_browse',\n",
    "                                                'output_column': \"text_input\", 'columns_not_required': \"text_input\"},\n",
    "                                     'outputs':{'df':'variable',\"fig\":\"graph\"}}\n",
    "        \n",
    "        \n",
    "    }"
   ]
  },
  {
   "cell_type": "markdown",
   "metadata": {},
   "source": [
    "# Define all functions\n",
    "Some rules:\n",
    "* Add a markdown cell heading, beginning with **FUNCTION -**, to introduce the function \n",
    "* Ensure a Doc String (contained within '''Some Text''') is the first line of the function\n",
    "* Ensure all required parameters are set with default values.\n",
    "* Ensure something is always returned \n",
    "- Return variables within a dictionary where the key provides a name\n",
    "- Return the same dictionary but with **None** values if there is an error\n",
    "* Ensure the function is correctly described within **in_out_def**\n",
    "* Ensure some parameter validation occurs (**isinstance** is a good check)"
   ]
  },
  {
   "cell_type": "markdown",
   "metadata": {},
   "source": [
    "## FUNCTION - linear_reg_model_creation"
   ]
  },
  {
   "cell_type": "code",
   "execution_count": 3,
   "metadata": {},
   "outputs": [],
   "source": [
    "def linear_reg_model_creation(df=None, output_column=None, columns_not_required=None):\n",
    "    '''Take df, a target column, and columns to discard and create a linear regression model relating the inputs and outputs'''\n",
    "    #try:\n",
    "    if isinstance(df, pd.DataFrame) and isinstance(output_column,\n",
    "    str) and isinstance(columns_not_required, str):\n",
    "        cols=[a.replace(\" \",\"_\") for a in df.columns]\n",
    "        df.columns=cols\n",
    "        #print(cols)\n",
    "        columns_not_required=\"\".join(columns_not_required.split()).split(',')\n",
    "        if output_column in [*df.columns] and False not in [True if cc in [*df.columns] else False for cc in columns_not_required]:\n",
    "            df = df.drop(columns_not_required, axis=1)\n",
    "            Y = df[output_column]\n",
    "            X = df.drop([output_column], axis=1)\n",
    "            min_max_scaler = preprocessing.MinMaxScaler()\n",
    "            X_scaled = pd.DataFrame(min_max_scaler.fit_transform(X), columns=X.columns)\n",
    "            X_train, X_test, Y_train, Y_test = train_test_split(X_scaled, Y, test_size=0.3, random_state=42)\n",
    "            reg = LinearRegression()\n",
    "            _ = reg.fit(X_train, Y_train)\n",
    "            predictions = reg.predict(X_test)\n",
    "            error = mean_squared_error(Y_test, predictions)\n",
    "            return {\"reg\": reg,\"scaler_used\":min_max_scaler,\"mean_squared_error\":error,\"regression_cols\":[*X_test.columns]}\n",
    "    #except:\n",
    "    #    pass\n",
    "    return {\"reg\": None,\"scaler_used\":None,\"mean_squared_error\":None,\"regression_cols\":None}"
   ]
  },
  {
   "cell_type": "markdown",
   "metadata": {},
   "source": [
    "## FUNCTION - prediction_using_model"
   ]
  },
  {
   "cell_type": "code",
   "execution_count": 4,
   "metadata": {},
   "outputs": [],
   "source": [
    "def prediction_using_model(model=None,scaler_used=None,df=None,regression_cols=None):\n",
    "    '''Use a sklearn ML model to predict outputs for a provided data set'''\n",
    "    if isinstance(regression_cols,str):\n",
    "        try:\n",
    "            regression_cols=\"\".join(regression_cols.split()).split(',')\n",
    "            #print(regression_cols)\n",
    "        except:\n",
    "            pass\n",
    "    if isinstance(model,type(LinearRegression())) and isinstance(scaler_used,type(preprocessing.MinMaxScaler())) and isinstance(df,pd.DataFrame) and isinstance(regression_cols,list):\n",
    "        try:\n",
    "            #regression_cols=\"\".join(regression_cols.split()).split(',')\n",
    "            X=df[regression_cols]\n",
    "            X_scaled = pd.DataFrame(scaler_used.transform(X), columns=X.columns)\n",
    "            predictions = model.predict(X_scaled)\n",
    "            X[\"Predicted_%_Silica_Concentrate\"]=pd.Series(predictions)\n",
    "            return{\"df\":X}\n",
    "        except:\n",
    "            pass\n",
    "    return{\"df\":None}"
   ]
  },
  {
   "cell_type": "markdown",
   "metadata": {},
   "source": [
    "## FUNCTION - single_step_create_predict"
   ]
  },
  {
   "cell_type": "code",
   "execution_count": 5,
   "metadata": {},
   "outputs": [],
   "source": [
    "from importnb import Notebook\n",
    "with __import__('importnb').Notebook():\n",
    "    from df_to_fig import df_to_hist\n",
    "def single_step_create_predict(training_csv=None,predict_csv=None, output_column=None, columns_not_required=None):\n",
    "    '''Single step model creation and prediction'''\n",
    "    df=pd.read_csv(training_csv)\n",
    "    predict_df=pd.read_csv(predict_csv)\n",
    "    conversions=[(['Starch_Flow','Amina_Flow','Ore_Pulp_Flow'],101.941),(['Ore_Pulp_Density'],0.0000160185),(['Flotation_Column_01_Level','Flotation_Column_02_Level'\n",
    "],25.4)]\n",
    "    for conv_tuple in conversions:\n",
    "        for col in conv_tuple[0]:\n",
    "            predict_df[col]=pd.to_numeric(predict_df[col],errors='coerce')\n",
    "            predict_df[col]=predict_df[col]*conv_tuple[1]\n",
    "    if isinstance(df, pd.DataFrame) and isinstance(predict_df, pd.DataFrame) and isinstance(output_column,\n",
    "    str) and isinstance(columns_not_required, str):\n",
    "        dict_a=linear_reg_model_creation(df=df, output_column=output_column, columns_not_required=columns_not_required)\n",
    "        #print(predict_df.columns,dict_a['regression_cols'])\n",
    "        dict_b=prediction_using_model(model=dict_a[\"reg\"],scaler_used=dict_a[\"scaler_used\"],df=predict_df,regression_cols=dict_a[\"regression_cols\"])\n",
    "        dict_c=df_to_hist(df=dict_b['df'],data='Predicted_%_Silica_Concentrate',group_by='None',bins=5)\n",
    "        dict_b['fig']=dict_c['fig']\n",
    "        return dict_b"
   ]
  },
  {
   "cell_type": "code",
   "execution_count": 6,
   "metadata": {},
   "outputs": [],
   "source": [
    "#single_step_create_predict(training_csv=\"mining_training.csv\",predict_csv=\"Day_Input.csv\", output_column='%_Silica_Concentrate', columns_not_required='date,Ore_Pulp_pH,%_Iron_Concentrate')"
   ]
  },
  {
   "cell_type": "markdown",
   "metadata": {},
   "source": [
    "# Help with Markdown cells\n",
    "\n",
    "For help with markdown vist [markdownguide](https://markdownguide.org/basic-syntax/)"
   ]
  },
  {
   "cell_type": "markdown",
   "metadata": {},
   "source": [
    "# Remember you can use latex equations\n",
    "\n",
    "* To write equations first start a math environment using double dollar signs    \n",
    "* Then write your equations and close the environment with double dollar signs  \n",
    "* For in-line equations use single dollar signs $e=mc^2$  \n",
    "* Remember Latex uses \\\\ to indicate many equation objects and use {} to surround information when its for a specific object.  \n",
    "* \\_ indicates subscript and \\^ indicates superscript (you will need to use {} if the sub or superscript is not a single number  * ie. {-i, j}). \n",
    "$$\n",
    "X=\\frac{A_{-i, j}}{B^2}\n",
    "$$\n",
    "\n",
    "\n",
    "See [Mathjax](https://math.meta.stackexchange.com/questions/5020/mathjax-basic-tutorial-and-quick-reference) for more help."
   ]
  }
 ],
 "metadata": {
  "kernelspec": {
   "display_name": "Python 3",
   "language": "python",
   "name": "python3"
  },
  "language_info": {
   "codemirror_mode": {
    "name": "ipython",
    "version": 3
   },
   "file_extension": ".py",
   "mimetype": "text/x-python",
   "name": "python",
   "nbconvert_exporter": "python",
   "pygments_lexer": "ipython3",
   "version": "3.9.2"
  },
  "toc": {
   "base_numbering": 1,
   "nav_menu": {},
   "number_sections": true,
   "sideBar": true,
   "skip_h1_title": false,
   "title_cell": "Table of Contents",
   "title_sidebar": "Contents",
   "toc_cell": true,
   "toc_position": {
    "height": "calc(100% - 180px)",
    "left": "10px",
    "top": "150px",
    "width": "221px"
   },
   "toc_section_display": true,
   "toc_window_display": true
  }
 },
 "nbformat": 4,
 "nbformat_minor": 4
}
